{
  "nbformat": 4,
  "nbformat_minor": 0,
  "metadata": {
    "colab": {
      "name": "Web Scraping - Lorraine Mbogori",
      "provenance": [],
      "collapsed_sections": [],
      "toc_visible": true
    },
    "kernelspec": {
      "name": "python3",
      "display_name": "Python 3"
    }
  },
  "cells": [
    {
      "cell_type": "markdown",
      "metadata": {
        "id": "7i5A-UY4Yruf"
      },
      "source": [
        "<font color='#2F4F4F'>To use this notebook on Colaboratory, you will need to make a copy of it. Go to File > Save a Copy in Drive. You can then use the new copy that will appear in the new tab.</font>\n"
      ]
    },
    {
      "cell_type": "markdown",
      "metadata": {
        "id": "0rOdcI2Nzhky"
      },
      "source": [
        "# <font color='#2F4F4F'>AfterWork Data Science: Web Scraping with Python</font>"
      ]
    },
    {
      "cell_type": "markdown",
      "metadata": {
        "id": "Tcso2rJCNAGq"
      },
      "source": [
        "## <font color='#2F4F4F'>Prerequisites</font>"
      ]
    },
    {
      "cell_type": "code",
      "metadata": {
        "id": "QSHljMZTNCRI"
      },
      "source": [
        "# Import the required libraries\n",
        "# ---\n",
        "#\n",
        "import pandas as pd             # library for data manupation\n",
        "import requests                 # library for fetching a web page \n",
        "from bs4 import BeautifulSoup   # library for extrating contents from a webpage "
      ],
      "execution_count": null,
      "outputs": []
    },
    {
      "cell_type": "markdown",
      "metadata": {
        "id": "CRmt1rRHgZRG"
      },
      "source": [
        "## <font color='#2F4F4F'>Step 1: Obtaining our Data</font>"
      ]
    },
    {
      "cell_type": "code",
      "metadata": {
        "id": "cM5TKD-P1h7Z",
        "colab": {
          "base_uri": "https://localhost:8080/"
        },
        "outputId": "ac56a600-2a52-4e14-8194-24c7c0c8ca88"
      },
      "source": [
        "# PigiaMe: https://www.pigiame.co.ke/it-software-jobs\n",
        "# ---\n",
        "#\n",
        "pigia_me = requests.get('https://www.pigiame.co.ke/it-software-jobs')\n",
        "pigia_me"
      ],
      "execution_count": null,
      "outputs": [
        {
          "output_type": "execute_result",
          "data": {
            "text/plain": [
              "<Response [200]>"
            ]
          },
          "metadata": {},
          "execution_count": 3
        }
      ]
    },
    {
      "cell_type": "code",
      "metadata": {
        "id": "OfUvfxrD1nQC",
        "colab": {
          "base_uri": "https://localhost:8080/"
        },
        "outputId": "d44e4e6d-6ae4-4552-93c8-82f639ce49c3"
      },
      "source": [
        "# MyJobMag: https://www.myjobmag.co.ke/jobs-by-field/information-technology\n",
        "# ---\n",
        "#\n",
        "job_mag = requests.get('https://www.myjobmag.co.ke/jobs-by-field/information-technology')\n",
        "job_mag"
      ],
      "execution_count": null,
      "outputs": [
        {
          "output_type": "execute_result",
          "data": {
            "text/plain": [
              "<Response [200]>"
            ]
          },
          "metadata": {},
          "execution_count": 4
        }
      ]
    },
    {
      "cell_type": "code",
      "metadata": {
        "id": "psWrYhRUQDJC",
        "colab": {
          "base_uri": "https://localhost:8080/"
        },
        "outputId": "9a78745c-938d-4efb-92e6-044d25a6376d"
      },
      "source": [
        "# KenyanJob: https://www.kenyajob.com/job-vacancies-search-kenya?f%5B0%5D=im_field_offre_secteur%3A133\n",
        "# ---\n",
        "#\n",
        "kenyan_job = requests.get('https://www.kenyajob.com/job-vacancies-search-kenya?f%5B0%5D=im_field_offre_secteur%3A133')\n",
        "kenyan_job"
      ],
      "execution_count": null,
      "outputs": [
        {
          "output_type": "execute_result",
          "data": {
            "text/plain": [
              "<Response [200]>"
            ]
          },
          "metadata": {},
          "execution_count": 5
        }
      ]
    },
    {
      "cell_type": "markdown",
      "metadata": {
        "id": "h7iRb8U8hHNw"
      },
      "source": [
        "## <font color='#2F4F4F'>Step 2: Parsing</font>"
      ]
    },
    {
      "cell_type": "code",
      "metadata": {
        "id": "AXWSK1kD2oeN"
      },
      "source": [
        "# Parsing our document: pigia_me\n",
        "# ---\n",
        "# \n",
        "soup_pm = BeautifulSoup(pigia_me.text, \"html.parser\")"
      ],
      "execution_count": null,
      "outputs": []
    },
    {
      "cell_type": "code",
      "metadata": {
        "id": "lrH9mgR82pzg"
      },
      "source": [
        "# Parsing our document: my_job_mag\n",
        "# ---\n",
        "#  \n",
        "soup_jm = BeautifulSoup(job_mag.text, \"html.parser\")"
      ],
      "execution_count": null,
      "outputs": []
    },
    {
      "cell_type": "code",
      "metadata": {
        "id": "O0x-Wz03QP5O"
      },
      "source": [
        "# Parsing our document: kenyan_job\n",
        "# ---\n",
        "# \n",
        "soup_kj = BeautifulSoup(kenyan_job.text, \"html.parser\")"
      ],
      "execution_count": null,
      "outputs": []
    },
    {
      "cell_type": "markdown",
      "metadata": {
        "id": "_OxuOAIXhPl5"
      },
      "source": [
        "## <font color='#2F4F4F'>Step 3: Extracting Required Elements</font>"
      ]
    },
    {
      "cell_type": "code",
      "metadata": {
        "id": "e2p147_LICKn",
        "colab": {
          "base_uri": "https://localhost:8080/"
        },
        "outputId": "16b5d906-5d08-4442-fc9a-b2c13121ea07"
      },
      "source": [
        "# 1. Extracting job titles and links: pigia me\n",
        "# ---\n",
        "#\n",
        "results = soup_pm.find_all('a', {'class':'listing-card__inner'})\n",
        "\n",
        "#results[0].get_text()\n",
        "\n",
        "job_titles = []\n",
        "job_links =[]\n",
        "\n",
        "for result in results:\n",
        "  title = result.get('data-t-listing_title')\n",
        "  link = result.get('href')\n",
        "\n",
        "  job_titles.append(title)\n",
        "  job_links.append(link)\n",
        "\n",
        "job_titles[0:5]"
      ],
      "execution_count": null,
      "outputs": [
        {
          "output_type": "execute_result",
          "data": {
            "text/plain": [
              "['Data Systems Developer',\n",
              " 'Database and Management Information Systems Manager',\n",
              " 'Business Analyst',\n",
              " 'PRINCIPAL BUSINESS ANALYST',\n",
              " 'Lead Data Scientist']"
            ]
          },
          "metadata": {},
          "execution_count": 20
        }
      ]
    },
    {
      "cell_type": "code",
      "metadata": {
        "id": "NNLbrng_3QfA"
      },
      "source": [
        "# 2. Extracting job titles: my_job_mag\n",
        "# ---\n",
        "#h2 \n",
        "#\n",
        "jobmag_results = soup_jm.find_all('h2')\n",
        "jobmag_results\n",
        "\n",
        "j_titles =[]\n",
        "j_links = []\n",
        "for result in jobmag_results:\n",
        "  title = result.get_text()\n",
        "  \n",
        "  j_titles.append(title)\n",
        "\n"
      ],
      "execution_count": null,
      "outputs": []
    },
    {
      "cell_type": "code",
      "metadata": {
        "id": "I0fQKn63QV0R"
      },
      "source": [
        "# 3. Extracting job titles: kenya_job\n",
        "# ---\n",
        "\n",
        "#h5\n",
        "#<a href=\"/job-vacancies-kenya/associate-sales-development-representative-amer-92776\n",
        "\n",
        "kj_results = soup_kj.find_all('h5')\n",
        "kj_results\n",
        "\n",
        "kj_titles = []\n",
        "for result in kj_results:\n",
        "  title = result.get_text()\n",
        "  \n",
        "  kj_titles.append(title)"
      ],
      "execution_count": null,
      "outputs": []
    },
    {
      "cell_type": "markdown",
      "metadata": {
        "id": "7ePXABAihaKn"
      },
      "source": [
        "## <font color='#2F4F4F'>Step 4: Saving our Data</font>"
      ]
    },
    {
      "cell_type": "code",
      "metadata": {
        "id": "fsG9pQXk5f8y",
        "colab": {
          "base_uri": "https://localhost:8080/",
          "height": 206
        },
        "outputId": "ac0ac5a9-40a6-4580-a67c-5a076d868841"
      },
      "source": [
        "# Saving the scraped contents in a dataframe and preview our data\n",
        "# ---\n",
        "#pigia me df\n",
        "pm_df = pd.DataFrame({\"job_titles\": job_titles, \"job_links\": job_links})\n",
        "pm_df.head()\n",
        "\n",
        "#job mag df\n",
        "jm_df = pd.DataFrame({\"job_titles\": j_titles})\n",
        "jm_df.head()\n",
        "\n",
        "#kenya job df\n",
        "kj_df = pd.DataFrame({\"job_titles\": job_titles})\n",
        "kj_df.head()"
      ],
      "execution_count": null,
      "outputs": [
        {
          "output_type": "execute_result",
          "data": {
            "text/html": [
              "\n",
              "  <div id=\"df-6803b4e3-615a-4029-9414-f90c49655b8d\">\n",
              "    <div class=\"colab-df-container\">\n",
              "      <div>\n",
              "<style scoped>\n",
              "    .dataframe tbody tr th:only-of-type {\n",
              "        vertical-align: middle;\n",
              "    }\n",
              "\n",
              "    .dataframe tbody tr th {\n",
              "        vertical-align: top;\n",
              "    }\n",
              "\n",
              "    .dataframe thead th {\n",
              "        text-align: right;\n",
              "    }\n",
              "</style>\n",
              "<table border=\"1\" class=\"dataframe\">\n",
              "  <thead>\n",
              "    <tr style=\"text-align: right;\">\n",
              "      <th></th>\n",
              "      <th>job_titles</th>\n",
              "    </tr>\n",
              "  </thead>\n",
              "  <tbody>\n",
              "    <tr>\n",
              "      <th>0</th>\n",
              "      <td>Data Systems Developer</td>\n",
              "    </tr>\n",
              "    <tr>\n",
              "      <th>1</th>\n",
              "      <td>Database and Management Information Systems Ma...</td>\n",
              "    </tr>\n",
              "    <tr>\n",
              "      <th>2</th>\n",
              "      <td>Business Analyst</td>\n",
              "    </tr>\n",
              "    <tr>\n",
              "      <th>3</th>\n",
              "      <td>PRINCIPAL BUSINESS ANALYST</td>\n",
              "    </tr>\n",
              "    <tr>\n",
              "      <th>4</th>\n",
              "      <td>Lead Data Scientist</td>\n",
              "    </tr>\n",
              "  </tbody>\n",
              "</table>\n",
              "</div>\n",
              "      <button class=\"colab-df-convert\" onclick=\"convertToInteractive('df-6803b4e3-615a-4029-9414-f90c49655b8d')\"\n",
              "              title=\"Convert this dataframe to an interactive table.\"\n",
              "              style=\"display:none;\">\n",
              "        \n",
              "  <svg xmlns=\"http://www.w3.org/2000/svg\" height=\"24px\"viewBox=\"0 0 24 24\"\n",
              "       width=\"24px\">\n",
              "    <path d=\"M0 0h24v24H0V0z\" fill=\"none\"/>\n",
              "    <path d=\"M18.56 5.44l.94 2.06.94-2.06 2.06-.94-2.06-.94-.94-2.06-.94 2.06-2.06.94zm-11 1L8.5 8.5l.94-2.06 2.06-.94-2.06-.94L8.5 2.5l-.94 2.06-2.06.94zm10 10l.94 2.06.94-2.06 2.06-.94-2.06-.94-.94-2.06-.94 2.06-2.06.94z\"/><path d=\"M17.41 7.96l-1.37-1.37c-.4-.4-.92-.59-1.43-.59-.52 0-1.04.2-1.43.59L10.3 9.45l-7.72 7.72c-.78.78-.78 2.05 0 2.83L4 21.41c.39.39.9.59 1.41.59.51 0 1.02-.2 1.41-.59l7.78-7.78 2.81-2.81c.8-.78.8-2.07 0-2.86zM5.41 20L4 18.59l7.72-7.72 1.47 1.35L5.41 20z\"/>\n",
              "  </svg>\n",
              "      </button>\n",
              "      \n",
              "  <style>\n",
              "    .colab-df-container {\n",
              "      display:flex;\n",
              "      flex-wrap:wrap;\n",
              "      gap: 12px;\n",
              "    }\n",
              "\n",
              "    .colab-df-convert {\n",
              "      background-color: #E8F0FE;\n",
              "      border: none;\n",
              "      border-radius: 50%;\n",
              "      cursor: pointer;\n",
              "      display: none;\n",
              "      fill: #1967D2;\n",
              "      height: 32px;\n",
              "      padding: 0 0 0 0;\n",
              "      width: 32px;\n",
              "    }\n",
              "\n",
              "    .colab-df-convert:hover {\n",
              "      background-color: #E2EBFA;\n",
              "      box-shadow: 0px 1px 2px rgba(60, 64, 67, 0.3), 0px 1px 3px 1px rgba(60, 64, 67, 0.15);\n",
              "      fill: #174EA6;\n",
              "    }\n",
              "\n",
              "    [theme=dark] .colab-df-convert {\n",
              "      background-color: #3B4455;\n",
              "      fill: #D2E3FC;\n",
              "    }\n",
              "\n",
              "    [theme=dark] .colab-df-convert:hover {\n",
              "      background-color: #434B5C;\n",
              "      box-shadow: 0px 1px 3px 1px rgba(0, 0, 0, 0.15);\n",
              "      filter: drop-shadow(0px 1px 2px rgba(0, 0, 0, 0.3));\n",
              "      fill: #FFFFFF;\n",
              "    }\n",
              "  </style>\n",
              "\n",
              "      <script>\n",
              "        const buttonEl =\n",
              "          document.querySelector('#df-6803b4e3-615a-4029-9414-f90c49655b8d button.colab-df-convert');\n",
              "        buttonEl.style.display =\n",
              "          google.colab.kernel.accessAllowed ? 'block' : 'none';\n",
              "\n",
              "        async function convertToInteractive(key) {\n",
              "          const element = document.querySelector('#df-6803b4e3-615a-4029-9414-f90c49655b8d');\n",
              "          const dataTable =\n",
              "            await google.colab.kernel.invokeFunction('convertToInteractive',\n",
              "                                                     [key], {});\n",
              "          if (!dataTable) return;\n",
              "\n",
              "          const docLinkHtml = 'Like what you see? Visit the ' +\n",
              "            '<a target=\"_blank\" href=https://colab.research.google.com/notebooks/data_table.ipynb>data table notebook</a>'\n",
              "            + ' to learn more about interactive tables.';\n",
              "          element.innerHTML = '';\n",
              "          dataTable['output_type'] = 'display_data';\n",
              "          await google.colab.output.renderOutput(dataTable, element);\n",
              "          const docLink = document.createElement('div');\n",
              "          docLink.innerHTML = docLinkHtml;\n",
              "          element.appendChild(docLink);\n",
              "        }\n",
              "      </script>\n",
              "    </div>\n",
              "  </div>\n",
              "  "
            ],
            "text/plain": [
              "                                          job_titles\n",
              "0                             Data Systems Developer\n",
              "1  Database and Management Information Systems Ma...\n",
              "2                                   Business Analyst\n",
              "3                         PRINCIPAL BUSINESS ANALYST\n",
              "4                                Lead Data Scientist"
            ]
          },
          "metadata": {},
          "execution_count": 24
        }
      ]
    }
  ]
}